{
 "cells": [
  {
   "cell_type": "code",
   "execution_count": null,
   "id": "5f6d8a0e",
   "metadata": {
    "vscode": {
     "languageId": "shellscript"
    }
   },
   "outputs": [
    {
     "name": "stdout",
     "output_type": "stream",
     "text": [
      "Requirement already satisfied: faker in c:\\users\\tijn\\documents\\vsc\\data engineering projects\\pyspark_regex_practice\\.env\\lib\\site-packages (from -r requirements.txt (line 1)) (37.1.0)\n",
      "Requirement already satisfied: tzdata in c:\\users\\tijn\\documents\\vsc\\data engineering projects\\pyspark_regex_practice\\.env\\lib\\site-packages (from faker->-r requirements.txt (line 1)) (2025.2)\n"
     ]
    },
    {
     "name": "stderr",
     "output_type": "stream",
     "text": [
      "\n",
      "[notice] A new release of pip is available: 23.2.1 -> 25.1.1\n",
      "[notice] To update, run: python.exe -m pip install --upgrade pip\n"
     ]
    }
   ],
   "source": [
    "!pip install --no-cache-dir -r requirements.txt\n",
    "!python Create_synth_data.py"
   ]
  },
  {
   "cell_type": "code",
   "execution_count": null,
   "id": "9834ca25",
   "metadata": {},
   "outputs": [],
   "source": [
    "import pyspark\n",
    "\n",
    "logfile = \"logfiles.log\"\n"
   ]
  }
 ],
 "metadata": {
  "kernelspec": {
   "display_name": ".env",
   "language": "python",
   "name": "python3"
  },
  "language_info": {
   "codemirror_mode": {
    "name": "ipython",
    "version": 3
   },
   "file_extension": ".py",
   "mimetype": "text/x-python",
   "name": "python",
   "nbconvert_exporter": "python",
   "pygments_lexer": "ipython3",
   "version": "3.11.7"
  }
 },
 "nbformat": 4,
 "nbformat_minor": 5
}
